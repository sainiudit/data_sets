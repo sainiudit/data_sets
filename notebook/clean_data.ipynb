{
 "cells": [
  {
   "cell_type": "code",
   "execution_count": 1,
   "metadata": {
    "collapsed": true
   },
   "outputs": [],
   "source": [
    "import pandas as pd\n",
    "import glob\n",
    "from ast import literal_eval\n",
    "files=glob.glob(\"data/*.json\")"
   ]
  },
  {
   "cell_type": "code",
   "execution_count": 2,
   "metadata": {
    "collapsed": true
   },
   "outputs": [],
   "source": [
    "l=[]\n",
    "for filename in files:\n",
    "    try:\n",
    "        l.append(pd.read_json(filename, encoding='UTF-8'))\n",
    "    except:\n",
    "        next"
   ]
  },
  {
   "cell_type": "code",
   "execution_count": 3,
   "metadata": {
    "collapsed": true
   },
   "outputs": [],
   "source": [
    "df = pd.concat(l, axis=0)"
   ]
  },
  {
   "cell_type": "code",
   "execution_count": 4,
   "metadata": {
    "collapsed": true
   },
   "outputs": [],
   "source": [
    "cleandf=df.dropna()\n",
    "cleandf=cleandf.sample(3000)"
   ]
  },
  {
   "cell_type": "code",
   "execution_count": 5,
   "metadata": {
    "collapsed": true
   },
   "outputs": [],
   "source": [
    "from pandas.io.json import json_normalize\n",
    "df_info = json_normalize(cleandf.to_dict('list'), ['educations']).unstack().apply(pd.Series)"
   ]
  },
  {
   "cell_type": "code",
   "execution_count": 6,
   "metadata": {
    "collapsed": true
   },
   "outputs": [],
   "source": [
    "education=pd.concat([df_info.groupby(df_info.index.get_level_values(1))[col].apply(lambda x: list(x)) for col in df_info.columns],axis=1)\n",
    "cleandf=cleandf.reset_index(drop=True)\n",
    "education=education.drop('end-date',axis=1)\n",
    "education=education.drop('start-date',axis=1)\n",
    "education=education.rename(columns={'summary':'positions_summary'})\n",
    "cleandf=pd.concat([cleandf,education],axis=1)"
   ]
  },
  {
   "cell_type": "code",
   "execution_count": 7,
   "metadata": {
    "collapsed": true
   },
   "outputs": [],
   "source": [
    "from pandas.io.json import json_normalize\n",
    "df_info = json_normalize(cleandf.to_dict('list'), ['positions']).unstack().apply(pd.Series)\n",
    "\n",
    "positions=pd.concat([df_info.groupby(df_info.index.get_level_values(1))[col].apply(lambda x: list(x)) for col in df_info.columns],axis=1)\n",
    "cleandf=cleandf.reset_index(drop=True)\n",
    "positions=positions.drop('end-date',axis=1)\n",
    "positions=positions.drop('start-date',axis=1)\n",
    "positions=positions.rename(columns={'summary':'positions_summary'})\n",
    "cleandf=pd.concat([cleandf,positions],axis=1)"
   ]
  },
  {
   "cell_type": "code",
   "execution_count": 8,
   "metadata": {
    "collapsed": true
   },
   "outputs": [],
   "source": [
    "educol=list(education.columns)\n",
    "poscol=list(positions.columns)"
   ]
  },
  {
   "cell_type": "code",
   "execution_count": 9,
   "metadata": {
    "collapsed": true
   },
   "outputs": [],
   "source": [
    "#for col in cleandf.columns:\n",
    "#    print(col)\n",
    "#    cleandf[col] = cleandf[col].str.replace('[^\\x00-\\x7F]','')\n",
    "#cleandf.replace({r'[^\\x00-\\x7F]+':''}, regex=True, inplace=True)"
   ]
  },
  {
   "cell_type": "code",
   "execution_count": 10,
   "metadata": {
    "collapsed": true
   },
   "outputs": [],
   "source": [
    "poscol.remove('is-current')"
   ]
  },
  {
   "cell_type": "code",
   "execution_count": 11,
   "metadata": {},
   "outputs": [
    {
     "name": "stdout",
     "output_type": "stream",
     "text": [
      "degree\n",
      "field-of-study\n",
      "school-name\n",
      "company-name\n",
      "positions_summary\n",
      "title\n"
     ]
    }
   ],
   "source": [
    "for col in educol:\n",
    "    print(col)\n",
    "    cleandf[col]=cleandf[col].apply(lambda x: [val for val in x if pd.notnull(val)])\n",
    "    #cleandf[col]=cleandf[col].apply(lambda x:['\"'+v+'\"' for v in x])\n",
    "    \n",
    "for col in poscol:\n",
    "    print(col)\n",
    "    cleandf[col]=cleandf[col].apply(lambda x: [val for val in x if pd.notnull(val)])\n",
    "    #cleandf[col]=cleandf[col].apply(lambda x:['\"'+v+'\"' for v in x])"
   ]
  },
  {
   "cell_type": "code",
   "execution_count": 12,
   "metadata": {
    "collapsed": true
   },
   "outputs": [],
   "source": [
    "cleandf.to_pickle(\"clean_data_3000.pkl\")"
   ]
  }
 ],
 "metadata": {
  "kernelspec": {
   "display_name": "Python 2",
   "language": "python",
   "name": "python2"
  },
  "language_info": {
   "codemirror_mode": {
    "name": "ipython",
    "version": 2
   },
   "file_extension": ".py",
   "mimetype": "text/x-python",
   "name": "python",
   "nbconvert_exporter": "python",
   "pygments_lexer": "ipython2",
   "version": "2.7.12"
  }
 },
 "nbformat": 4,
 "nbformat_minor": 2
}
